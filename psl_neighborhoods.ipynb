{
 "cells": [
  {
   "cell_type": "markdown",
   "metadata": {},
   "source": [
    "<p>Author: Wesley Schonborn\n",
    "<p>Date: 4/27/2021\n",
    "<p>Project: Port Saint Lucie Neighborhoods...Which Ones Need a Thai Restaurant?"
   ]
  },
  {
   "cell_type": "markdown",
   "metadata": {},
   "source": [
    "<h1>Importing</h1>"
   ]
  },
  {
   "cell_type": "code",
   "execution_count": null,
   "metadata": {},
   "outputs": [],
   "source": [
    "import numpy as np\n",
    "import requests # library to handle requests\n",
    "import pandas as pd\n",
    "pd.set_option('display.max_columns', None)\n",
    "pd.set_option('display.max_rows', None)\n",
    "\n",
    "# Install and import geopy\n",
    "!conda install -c conda-forge geopy --yes # only need to run once\n",
    "from geopy.geocoders import Nominatim\n",
    "\n",
    "# install and import folium for mapping\n",
    "!conda install -c conda-forge folium=0.5.0 --yes # only needed to run once\n",
    "import folium"
   ]
  },
  {
   "cell_type": "markdown",
   "metadata": {},
   "source": [
    "<h1>Import neighborhood data to a dataframe</h1>"
   ]
  },
  {
   "cell_type": "code",
   "execution_count": null,
   "metadata": {},
   "outputs": [],
   "source": [
    "# Put csv of neighborhoods into \"neighborhoods\" variable\n",
    "neighborhoods = pd.read_csv(\"psl_neighborhoods.csv\")\n",
    "\n",
    "# Quick look at the dataframe\n",
    "print(neighborhoods.head())\n",
    "print(neighborhoods.shape)"
   ]
  },
  {
   "cell_type": "markdown",
   "metadata": {},
   "source": [
    "<h1>Functions</h1>"
   ]
  },
  {
   "cell_type": "code",
   "execution_count": null,
   "metadata": {},
   "outputs": [],
   "source": [
    "# Function to get nearby venues\n",
    "def getNearbyVenues(names, latitudes, longitudes, radius=2500, categoryId='4d4b7105d754a06374d81259'):\n",
    "    venues_list = []\n",
    "    for name, lat, lng in zip(names, latitudes, longitudes):\n",
    "        print(name)\n",
    "        # create the API request URL\n",
    "        url = 'https://api.foursquare.com/v2/venues/explore?&client_id={}&client_secret={}&v={}&ll={},{}&radius={}&limit={}&categoryId={}'.format(\n",
    "            CLIENT_ID,\n",
    "            CLIENT_SECRET,\n",
    "            VERSION,\n",
    "            lat,\n",
    "            lng,\n",
    "            radius,\n",
    "            LIMIT,\n",
    "            categoryId)  # categoryId to limit to restaurants/food places\n",
    "        # make the GET request\n",
    "        results = requests.get(url).json()[\"response\"]['groups'][0]['items']\n",
    "        # return only relevant information for each nearby venue\n",
    "        venues_list.append([(\n",
    "            name,\n",
    "            lat,\n",
    "            lng,\n",
    "            v['venue']['name'],\n",
    "            v['venue']['location']['lat'],\n",
    "            v['venue']['location']['lng'],\n",
    "            v['venue']['categories'][0]['name']) for v in results])\n",
    "    nearby_venues = pd.DataFrame([item for venue_list in venues_list for item in venue_list])\n",
    "    nearby_venues.columns = ['Neighborhood',\n",
    "                  'Neighborhood Latitude',\n",
    "                  'Neighborhood Longitude',\n",
    "                  'Venue',\n",
    "                  'Venue Latitude',\n",
    "                  'Venue Longitude',\n",
    "                  'Venue Category']\n",
    "    return(nearby_venues)\n",
    "\n",
    "# Function to get most common venues\n",
    "def return_most_common_venues(row, num_top_venues):\n",
    "    row_categories = row.iloc[1:]\n",
    "    row_categories_sorted = row_categories.sort_values(ascending=False)\n",
    "    return row_categories_sorted.index.values[0:num_top_venues]"
   ]
  },
  {
   "cell_type": "markdown",
   "metadata": {},
   "source": [
    "<h1>Map Setup</h1>"
   ]
  },
  {
   "cell_type": "code",
   "execution_count": null,
   "metadata": {},
   "outputs": [],
   "source": [
    "address = 'Port Saint Lucie, FL'  # Should be something that is in the database for geolocator\n",
    "geolocator = Nominatim(user_agent=\"psl_explorer\")\n",
    "location = geolocator.geocode(address)\n",
    "latitude = location.latitude\n",
    "longitude = location.longitude\n",
    "print('The geographical coordinates of Port Saint Lucie, FL are {}, {}.'.format(latitude, longitude))\n",
    "# create map\n",
    "map_psl = folium.Map(location=[latitude, longitude], zoom_start=12)"
   ]
  },
  {
   "cell_type": "markdown",
   "metadata": {},
   "source": [
    "<h1>Add markers to map</h1>"
   ]
  },
  {
   "cell_type": "code",
   "execution_count": null,
   "metadata": {},
   "outputs": [],
   "source": [
    "for lat, lng, borough, neighborhood in zip(neighborhoods['latitude'], neighborhoods['longitude'], neighborhoods['borough'], neighborhoods['neighborhood']):\n",
    "    label = '{}, {}'.format(neighborhood, borough)\n",
    "    label = folium.Popup(label, parse_html=True)\n",
    "    folium.CircleMarker(\n",
    "        [lat, lng],\n",
    "        radius=5,\n",
    "        popup=label,\n",
    "        color='blue',\n",
    "        fill=True,\n",
    "        fill_color='#3186cc',\n",
    "        fill_opacity=0.7,\n",
    "        parse_html=False).add_to(map_psl)\n",
    "\n",
    "# display map (in Jupyter)\n",
    "map_psl"
   ]
  },
  {
   "cell_type": "markdown",
   "metadata": {},
   "source": [
    "<h1>Foursquare login info</h1>"
   ]
  },
  {
   "cell_type": "code",
   "execution_count": null,
   "metadata": {},
   "outputs": [],
   "source": [
    "CLIENT_ID = 'PZ1XLTP2AE3UZCNEFM5ZVGAEIITCYBIWITPAZNTUAWMIF43C'  # your Foursquare ID\n",
    "CLIENT_SECRET = 'LOOLAGGD4WSUF42S4OVATNV1DGI1FERGONOGIQYWCZNE0FLZ'  # your Foursquare Secret\n",
    "VERSION = '20180605'  # Foursquare API version\n",
    "LIMIT = 100  # A default Foursquare API limit value\n",
    "\n",
    "# Print out to make sure credentials are correct\n",
    "print('Your credentials:')\n",
    "print('CLIENT_ID: ' + CLIENT_ID)\n",
    "print('CLIENT_SECRET: ' + CLIENT_SECRET)"
   ]
  },
  {
   "cell_type": "markdown",
   "metadata": {},
   "source": [
    "<h1>Get venues and show neighborhoods</h1>"
   ]
  },
  {
   "cell_type": "code",
   "execution_count": null,
   "metadata": {},
   "outputs": [],
   "source": [
    "psl_venues = getNearbyVenues(names = neighborhoods['neighborhood'], latitudes = neighborhoods['latitude'], longitudes = neighborhoods['longitude'])"
   ]
  },
  {
   "cell_type": "code",
   "execution_count": null,
   "metadata": {},
   "outputs": [],
   "source": [
    "print(psl_venues.shape)\n",
    "\n",
    "psl_venues.groupby('Neighborhood').count()\n",
    "print('There are {} unique categories.'.format(len(psl_venues['Venue Category'].unique())))"
   ]
  },
  {
   "cell_type": "code",
   "execution_count": null,
   "metadata": {},
   "outputs": [],
   "source": [
    "psl_venues"
   ]
  },
  {
   "cell_type": "markdown",
   "metadata": {},
   "source": [
    "<h1>One hot encoding</h1>"
   ]
  },
  {
   "cell_type": "code",
   "execution_count": null,
   "metadata": {},
   "outputs": [],
   "source": [
    "psl_onehot = pd.get_dummies(psl_venues[['Venue Category']], prefix=\"\", prefix_sep=\"\")\n",
    "\n",
    "# add neighborhood column back to dataframe\n",
    "psl_onehot['Neighborhood'] = psl_venues['Neighborhood'] \n",
    "\n",
    "# move neighborhood column to the first column\n",
    "fixed_columns = [psl_onehot.columns[-1]] + list(psl_onehot.columns[:-1])\n",
    "psl_onehot = psl_onehot[fixed_columns]\n",
    "\n",
    "psl_onehot.head()"
   ]
  },
  {
   "cell_type": "markdown",
   "metadata": {},
   "source": [
    "<h1>Show all neighborhoods and how many Thai restaurants each has.</h1>"
   ]
  },
  {
   "cell_type": "code",
   "execution_count": null,
   "metadata": {},
   "outputs": [],
   "source": [
    "thai = pd.DataFrame()\n",
    "thai = psl_onehot.groupby(by=['Neighborhood'])['Thai Restaurant'].sum()\n",
    "thai = thai.to_frame() # Python converts to series for some reason\n",
    "thai"
   ]
  },
  {
   "cell_type": "markdown",
   "metadata": {},
   "source": [
    "<h1>Shows the neighborhoods without Thai restaurants.</h1>"
   ]
  },
  {
   "cell_type": "code",
   "execution_count": null,
   "metadata": {},
   "outputs": [],
   "source": [
    "no_thai = thai[thai['Thai Restaurant'] == 0]\n",
    "no_thai"
   ]
  },
  {
   "cell_type": "markdown",
   "metadata": {},
   "source": [
    "<h1>Join population data to the neighborhoods without Thai restaurants.</h1>"
   ]
  },
  {
   "cell_type": "code",
   "execution_count": null,
   "metadata": {},
   "outputs": [],
   "source": [
    "population = neighborhoods[['neighborhood', 'population']]\n",
    "no_thai_pop = pd.DataFrame()\n",
    "no_thai_pop = no_thai.merge(population, how = \"left\", left_on = 'Neighborhood', right_on = 'neighborhood')\n",
    "no_thai_pop = no_thai_pop.sort_values(by = 'population', ascending = False)\n",
    "no_thai_pop"
   ]
  },
  {
   "cell_type": "markdown",
   "metadata": {},
   "source": [
    "<h1>Map of neighborhoods with or without Thai restaurants</h1>\n",
    "<h3>Red = no Thai restaurant</h3>\n",
    "<h3>Green = Thai restaurant</h3>\n",
    "<h3>Size of marker is relative to population</h3>"
   ]
  },
  {
   "cell_type": "code",
   "execution_count": null,
   "metadata": {},
   "outputs": [],
   "source": [
    "neighborhoods_thai_no_thai = neighborhoods.merge(thai, how = \"left\", left_on = 'neighborhood', right_on = 'Neighborhood')\n",
    "\n",
    "map_psl = folium.Map(location=[latitude, longitude], zoom_start=12) # Sometimes the map doesn't refresh.\n",
    "for lat, lng, neighborhood, thai_rest, pop in zip(neighborhoods_thai_no_thai['latitude'], neighborhoods_thai_no_thai['longitude'], neighborhoods_thai_no_thai['neighborhood'], neighborhoods_thai_no_thai['Thai Restaurant'], neighborhoods_thai_no_thai['population']):\n",
    "    if (thai_rest == 1):\n",
    "        label = '{}, {}'.format(neighborhood, pop)\n",
    "        label = folium.Popup(label, parse_html=True)\n",
    "        folium.CircleMarker(\n",
    "            [lat, lng],\n",
    "            radius=pop/800,\n",
    "            popup=label,\n",
    "            color='green',\n",
    "            fill=True,\n",
    "            fill_color='green',\n",
    "            fill_opacity=0.7,\n",
    "            parse_html=False).add_to(map_psl)\n",
    "    elif (thai_rest == 0):\n",
    "        label = '{}, {}'.format(neighborhood, pop)\n",
    "        label = folium.Popup(label, parse_html=True)\n",
    "        folium.CircleMarker(\n",
    "            [lat, lng],\n",
    "            radius=pop/800,\n",
    "            popup=label,\n",
    "            color='red',\n",
    "            fill=True,\n",
    "            fill_color='red',\n",
    "            fill_opacity=0.7,\n",
    "            parse_html=False).add_to(map_psl)\n",
    "        \n",
    "map_psl"
   ]
  },
  {
   "cell_type": "code",
   "execution_count": null,
   "metadata": {},
   "outputs": [],
   "source": []
  }
 ],
 "metadata": {
  "kernelspec": {
   "display_name": "Python",
   "language": "python",
   "name": "conda-env-python-py"
  },
  "language_info": {
   "codemirror_mode": {
    "name": "ipython",
    "version": 3
   },
   "file_extension": ".py",
   "mimetype": "text/x-python",
   "name": "python",
   "nbconvert_exporter": "python",
   "pygments_lexer": "ipython3",
   "version": "3.6.13"
  }
 },
 "nbformat": 4,
 "nbformat_minor": 4
}
