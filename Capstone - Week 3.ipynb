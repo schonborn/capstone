{
 "cells": [
  {
   "cell_type": "markdown",
   "metadata": {},
   "source": [
    "Part 1"
   ]
  },
  {
   "cell_type": "code",
   "execution_count": 2,
   "metadata": {
    "scrolled": true
   },
   "outputs": [
    {
     "data": {
      "text/plain": [
       "(103, 3)"
      ]
     },
     "execution_count": 2,
     "metadata": {},
     "output_type": "execute_result"
    }
   ],
   "source": [
    "import pandas as pd\n",
    "\n",
    "# Put csv of neighborhoods into \"neighborhoods\" variable\n",
    "neighborhoods = pd.read_csv(\"toronto_neighborhoods.csv\")\n",
    "\n",
    "# The instructions say that the neighborhoods wouldn't have commas, but they already did for me.\n",
    "\n",
    "# Add all rows that do not have \"Not assigned\" as the borough\n",
    "neighborhoods = neighborhoods[neighborhoods.borough != 'Not assigned']\n",
    "\n",
    "# Are there any \"Not assigned\" neighborhoods?\n",
    "temp = neighborhoods[neighborhoods.neighborhood == 'Not assigned']\n",
    "temp\n",
    "\n",
    "neighborhoods.shape"
   ]
  },
  {
   "cell_type": "code",
   "execution_count": null,
   "metadata": {},
   "outputs": [],
   "source": [
    "Part 2"
   ]
  },
  {
   "cell_type": "markdown",
   "metadata": {},
   "source": [
    "I tried to get geocoder to work, but it didn't."
   ]
  },
  {
   "cell_type": "code",
   "execution_count": null,
   "metadata": {},
   "outputs": [],
   "source": [
    "pip install \"geocoder\"\n",
    "import geocoder\n",
    "\n",
    "# initialize your variable to None\n",
    "lat_lng_coords = None\n",
    "\n",
    "# loop until you get the coordinates\n",
    "while(lat_lng_coords is None):\n",
    "    g = geocoder.google('{}, Toronto, Ontario'.format(postal_code)\n",
    "    #g = geocoder.google('{}, Toronto, Ontario'.format(neighborhoods['postal_code']))\n",
    "    lat_lng_coords = g.latlng\n",
    "\n",
    "latitude = lat_lng_coords[0]\n",
    "longitude = lat_lng_coords[1]\n"
   ]
  },
  {
   "cell_type": "markdown",
   "metadata": {},
   "source": [
    "So I joined the coordinates df with the neighborhoods df."
   ]
  },
  {
   "cell_type": "code",
   "execution_count": null,
   "metadata": {},
   "outputs": [],
   "source": [
    "coordinates = pd.read_csv('Geospatial_Coordinates.csv')\n",
    "\n",
    "# Joins coordinates and neighborhoods dataframes\n",
    "neighborhoods_coords = coordinates.merge(neighborhoods, on='postal_code')"
   ]
  }
 ],
 "metadata": {
  "kernelspec": {
   "display_name": "Python 3",
   "language": "python",
   "name": "python3"
  },
  "language_info": {
   "codemirror_mode": {
    "name": "ipython",
    "version": 3
   },
   "file_extension": ".py",
   "mimetype": "text/x-python",
   "name": "python",
   "nbconvert_exporter": "python",
   "pygments_lexer": "ipython3",
   "version": "3.7.6"
  }
 },
 "nbformat": 4,
 "nbformat_minor": 4
}
